{
  "metadata": {
    "kernelspec": {
      "name": "python",
      "display_name": "Python (Pyodide)",
      "language": "python"
    },
    "language_info": {
      "codemirror_mode": {
        "name": "python",
        "version": 3
      },
      "file_extension": ".py",
      "mimetype": "text/x-python",
      "name": "python",
      "nbconvert_exporter": "python",
      "pygments_lexer": "ipython3",
      "version": "3.8"
    }
  },
  "nbformat_minor": 4,
  "nbformat": 4,
  "cells": [
    {
      "cell_type": "code",
      "source": "import pandas as pd\nimport numpy as np\n\n#Odczytaj plik 2017_jun_final.csv przy użyciu metody read_csv\n\ntable = pd.read_csv(\"bestsellers.csv\")\nprint(table)",
      "metadata": {
        "trusted": true
      },
      "outputs": [
        {
          "name": "stdout",
          "text": "                                                  Name  \\\n0                        10-Day Green Smoothie Cleanse   \n1                                    11/22/63: A Novel   \n2              12 Rules for Life: An Antidote to Chaos   \n3                               1984 (Signet Classics)   \n4    5,000 Awesome Facts (About Everything!) (Natio...   \n..                                                 ...   \n545       Wrecking Ball (Diary of a Wimpy Kid Book 14)   \n546  You Are a Badass: How to Stop Doubting Your Gr...   \n547  You Are a Badass: How to Stop Doubting Your Gr...   \n548  You Are a Badass: How to Stop Doubting Your Gr...   \n549  You Are a Badass: How to Stop Doubting Your Gr...   \n\n                       Author  User Rating  Reviews  Price  Year        Genre  \n0                    JJ Smith          4.7    17350      8  2016  Non Fiction  \n1                Stephen King          4.6     2052     22  2011      Fiction  \n2          Jordan B. Peterson          4.7    18979     15  2018  Non Fiction  \n3               George Orwell          4.7    21424      6  2017      Fiction  \n4    National Geographic Kids          4.8     7665     12  2019  Non Fiction  \n..                        ...          ...      ...    ...   ...          ...  \n545               Jeff Kinney          4.9     9413      8  2019      Fiction  \n546               Jen Sincero          4.7    14331      8  2016  Non Fiction  \n547               Jen Sincero          4.7    14331      8  2017  Non Fiction  \n548               Jen Sincero          4.7    14331      8  2018  Non Fiction  \n549               Jen Sincero          4.7    14331      8  2019  Non Fiction  \n\n[550 rows x 7 columns]\n",
          "output_type": "stream"
        }
      ],
      "execution_count": 1
    },
    {
      "cell_type": "code",
      "source": "print(table.head())",
      "metadata": {
        "trusted": true
      },
      "outputs": [
        {
          "name": "stdout",
          "text": "                                                Name  \\\n0                      10-Day Green Smoothie Cleanse   \n1                                  11/22/63: A Novel   \n2            12 Rules for Life: An Antidote to Chaos   \n3                             1984 (Signet Classics)   \n4  5,000 Awesome Facts (About Everything!) (Natio...   \n\n                     Author  User Rating  Reviews  Price  Year        Genre  \n0                  JJ Smith          4.7    17350      8  2016  Non Fiction  \n1              Stephen King          4.6     2052     22  2011      Fiction  \n2        Jordan B. Peterson          4.7    18979     15  2018  Non Fiction  \n3             George Orwell          4.7    21424      6  2017      Fiction  \n4  National Geographic Kids          4.8     7665     12  2019  Non Fiction  \n",
          "output_type": "stream"
        }
      ],
      "execution_count": 2
    },
    {
      "cell_type": "code",
      "source": "table_size = table.shape\nprint(table_size)\n",
      "metadata": {
        "trusted": true
      },
      "outputs": [
        {
          "name": "stdout",
          "text": "(550, 7)\n",
          "output_type": "stream"
        }
      ],
      "execution_count": 3
    },
    {
      "cell_type": "code",
      "source": "O ilu książkach przechowywane są dane w zbiorze danych? Odpowiedź:550",
      "metadata": {
        "trusted": true
      },
      "outputs": [],
      "execution_count": null
    },
    {
      "cell_type": "code",
      "source": "table.columns =  ['name', 'author', 'user_rating', 'reviews', 'price', 'year', 'genre']\nprint(table.head())",
      "metadata": {
        "trusted": true
      },
      "outputs": [
        {
          "name": "stdout",
          "text": "                                                name  \\\n0                      10-Day Green Smoothie Cleanse   \n1                                  11/22/63: A Novel   \n2            12 Rules for Life: An Antidote to Chaos   \n3                             1984 (Signet Classics)   \n4  5,000 Awesome Facts (About Everything!) (Natio...   \n\n                     author  user_rating  reviews  price  year        genre  \n0                  JJ Smith          4.7    17350      8  2016  Non Fiction  \n1              Stephen King          4.6     2052     22  2011      Fiction  \n2        Jordan B. Peterson          4.7    18979     15  2018  Non Fiction  \n3             George Orwell          4.7    21424      6  2017      Fiction  \n4  National Geographic Kids          4.8     7665     12  2019  Non Fiction  \n",
          "output_type": "stream"
        }
      ],
      "execution_count": 4
    },
    {
      "cell_type": "code",
      "source": "print(table.isna().sum())",
      "metadata": {
        "trusted": true
      },
      "outputs": [
        {
          "name": "stdout",
          "text": "name           0\nauthor         0\nuser_rating    0\nreviews        0\nprice          0\nyear           0\ngenre          0\ndtype: int64\n",
          "output_type": "stream"
        }
      ],
      "execution_count": 5
    },
    {
      "cell_type": "code",
      "source": "Czy są jakieś zmienne z brakującymi wartościami? Odpowiedź: Nie",
      "metadata": {
        "trusted": true
      },
      "outputs": [],
      "execution_count": null
    },
    {
      "cell_type": "code",
      "source": "unique_genres =table[\"genre\"].unique()\nprint(unique_genres)",
      "metadata": {
        "trusted": true
      },
      "outputs": [
        {
          "name": "stdout",
          "text": "['Non Fiction' 'Fiction']\n",
          "output_type": "stream"
        }
      ],
      "execution_count": 6
    },
    {
      "cell_type": "code",
      "source": "Jakie są unikalne gatunki? Non Fiction, Fiction",
      "metadata": {
        "trusted": true
      },
      "outputs": [],
      "execution_count": null
    },
    {
      "cell_type": "code",
      "source": "import matplotlib.pyplot as plt\n\n# Ustawienie rozmiaru wykresu\nplt.figure(figsize=(8, 6))\n\n# Budowa histogramu cen\ntable['price'].plot.hist(bins=20, color='skyblue', edgecolor='black')\n\n# Dodanie tytułu i etykiety osi\nplt.title('Rozkład cen książek')\nplt.xlabel('Cena')\nplt.ylabel('Liczba książek')\n\n# Wyświetlenie wykresu\nplt.show()",
      "metadata": {
        "trusted": true
      },
      "outputs": [
        {
          "output_type": "display_data",
          "data": {
            "text/plain": "<Figure size 800x600 with 1 Axes>",
            "image/png": "[encoded data removed]"
          },
          "metadata": {}
        }
      ],
      "execution_count": 7
    },
    {
      "cell_type": "code",
      "source": "min_price =table['price'].min()\nprint(\"Minimalna cena:\", min_price)",
      "metadata": {
        "trusted": true
      },
      "outputs": [
        {
          "name": "stdout",
          "text": "Minimalna cena: 0\n",
          "output_type": "stream"
        }
      ],
      "execution_count": 10
    },
    {
      "cell_type": "code",
      "source": "mean_price = table['price'].mean()\nprint(\"Średnia cena:\", mean_price)",
      "metadata": {
        "trusted": true
      },
      "outputs": [
        {
          "name": "stdout",
          "text": "Średnia cena: 13.1\n",
          "output_type": "stream"
        }
      ],
      "execution_count": 12
    },
    {
      "cell_type": "code",
      "source": "median_price = table['price'].median()\nprint(\"Mediana ceny:\", median_price)",
      "metadata": {
        "trusted": true
      },
      "outputs": [
        {
          "name": "stdout",
          "text": "Mediana ceny: 11.0\n",
          "output_type": "stream"
        }
      ],
      "execution_count": 14
    },
    {
      "cell_type": "code",
      "source": "max_price = table['price'].max()\nprint(\"Maksymalna cena:\", max_price)",
      "metadata": {
        "trusted": true
      },
      "outputs": [
        {
          "name": "stdout",
          "text": "Maksymalna cena: 105\n",
          "output_type": "stream"
        }
      ],
      "execution_count": 15
    },
    {
      "cell_type": "code",
      "source": "highest_rate = table['user_rating'].max()\nprint(\"Jaka jest najwyższa ocena w zbiorze danych? Odpowiedź:\", highest_rate)",
      "metadata": {
        "trusted": true
      },
      "outputs": [
        {
          "name": "stdout",
          "text": "Jaka jest najwyższa ocena w zbiorze danych? Odpowiedź: 4.9\n",
          "output_type": "stream"
        }
      ],
      "execution_count": 16
    },
    {
      "cell_type": "code",
      "source": "books_with_max_rating = table[table['user_rating'] == highest_rate].shape[0]\nprint(\"Ile książek ma taką ocenę? Odpowiedź:\", books_with_max_rating)",
      "metadata": {
        "trusted": true
      },
      "outputs": [
        {
          "name": "stdout",
          "text": "Ile książek ma taką ocenę? Odpowiedź: 52\n",
          "output_type": "stream"
        }
      ],
      "execution_count": 21
    },
    {
      "cell_type": "code",
      "source": "max_reviews_index = table['reviews'].idxmax()\n\nbook_with_max_reviews = table.loc[max_reviews_index]\n\nprint(\" Która książka ma najwięcej recenzji? Odpowiedź:\" , book_with_max_reviews)",
      "metadata": {
        "trusted": true
      },
      "outputs": [
        {
          "name": "stdout",
          "text": " Która książka ma najwięcej recenzji? Odpowiedź: name           Where the Crawdads Sing\nauthor                     Delia Owens\nuser_rating                        4.8\nreviews                          87841\nprice                               15\nyear                              2019\ngenre                          Fiction\nName: 534, dtype: object\n",
          "output_type": "stream"
        }
      ],
      "execution_count": 22
    },
    {
      "cell_type": "code",
      "source": "top_50_2015 = table[(table['year'] == 2015)]\nmost_expensive_book_2015 = top_50_2015.loc[top_50_2015['price'].idxmax()]\n\nprint(\"Która z książek z Top 50 w 2015 roku jest najdroższa (możesz użyć pośredniej ramki danych)? Odpowiedź:\", most_expensive_book_2015)",
      "metadata": {
        "trusted": true
      },
      "outputs": [
        {
          "name": "stdout",
          "text": "Która z książek z Top 50 w 2015 roku jest najdroższa (możesz użyć pośredniej ramki danych)? Odpowiedź: name           Publication Manual of the American Psychologic...\nauthor                        American Psychological Association\nuser_rating                                                  4.5\nreviews                                                     8580\nprice                                                         46\nyear                                                        2015\ngenre                                                Non Fiction\nName: 277, dtype: object\n",
          "output_type": "stream"
        }
      ],
      "execution_count": 24
    },
    {
      "cell_type": "code",
      "source": "fiction_books = ((table['genre'] == 'Fiction') & (table['year'] == 2010))\nFIRST_50 = table[fiction_books].shape[0]\nprint(\"Ile książek z gatunku Fiction znalazło się w Top 50 w 2010 roku (użyj &)? Odpowiedź:\", FIRST_50)",
      "metadata": {
        "trusted": true
      },
      "outputs": [
        {
          "name": "stdout",
          "text": "Ile książek z gatunku Fiction znalazło się w Top 50 w 2010 roku (użyj &)? Odpowiedź: 20\n",
          "output_type": "stream"
        }
      ],
      "execution_count": 27
    },
    {
      "cell_type": "code",
      "source": "rate_condition = ((table['user_rating'] == 4.9) & (table['year'].isin([2010, 2011])))\nafter_condition = table[rate_condition].shape[0]\nprint(\" Ile książek z oceną 4,9 znalazło się w rankingu w 2010 i 2011 roku? Odpowiedź:\", after_condition)",
      "metadata": {
        "trusted": true
      },
      "outputs": [
        {
          "name": "stdout",
          "text": " Ile książek z oceną 4,9 znalazło się w rankingu w 2010 i 2011 roku? Odpowiedź: 1\n",
          "output_type": "stream"
        }
      ],
      "execution_count": 30
    },
    {
      "cell_type": "code",
      "source": "eight_dollars = ((table['price'] < 8) & (table['year'] == 2015))\neight_dollars_books = table[eight_dollars].sort_values(by = 'price')\nprint(\"Która książka jest ostatnia na posortowanej liście? Odpowiedź:\", eight_dollars_books.iloc[-1])",
      "metadata": {
        "trusted": true
      },
      "outputs": [
        {
          "name": "stdout",
          "text": "Która książka jest ostatnia na posortowanej liście? Odpowiedź: name           Old School (Diary of a Wimpy Kid #10)\nauthor                                   Jeff Kinney\nuser_rating                                      4.8\nreviews                                         6169\nprice                                              7\nyear                                            2015\ngenre                                        Fiction\nName: 253, dtype: object\n",
          "output_type": "stream"
        }
      ],
      "execution_count": 39
    },
    {
      "cell_type": "code",
      "source": "fiction_books = table[table['genre'] == 'Fiction']\ngenre_max_price = fiction_books.groupby('genre')['price'].agg(['max'])\nprint( \"Maksymalna cena dla gatunku Fiction: Odpowiedź\", genre_max_price)",
      "metadata": {
        "trusted": true
      },
      "outputs": [
        {
          "name": "stdout",
          "text": "Maksymalna cena dla gatunku Fiction: Odpowiedź          max\ngenre       \nFiction   82\n",
          "output_type": "stream"
        }
      ],
      "execution_count": 42
    },
    {
      "cell_type": "code",
      "source": "fiction_books = table[table['genre'] == 'Fiction']\ngenre_min_price = fiction_books.groupby('genre')['price'].agg(['min'])\nprint( \"Minimalna cena dla gatunku Fiction: Odpowiedź\", genre_min_price)",
      "metadata": {
        "trusted": true
      },
      "outputs": [
        {
          "name": "stdout",
          "text": "Maksymalna cena dla gatunku Fiction: Odpowiedź          min\ngenre       \nFiction    0\n",
          "output_type": "stream"
        }
      ],
      "execution_count": 45
    },
    {
      "cell_type": "code",
      "source": "non_fiction_books = table[table['genre'] == 'Non Fiction']\ngenre_max_price = non_fiction_books.groupby('genre')['price'].agg(['max'])\nprint( \"Maksymalna cena dla gatunku Non Fiction: Odpowiedź\", genre_max_price)",
      "metadata": {
        "trusted": true
      },
      "outputs": [
        {
          "name": "stdout",
          "text": "Maksymalna cena dla gatunku Non Fiction: Odpowiedź              max\ngenre           \nNon Fiction  105\n",
          "output_type": "stream"
        }
      ],
      "execution_count": 46
    },
    {
      "cell_type": "code",
      "source": "genre_min_price = non_fiction_books.groupby('genre')['price'].agg(['min'])\nprint( \"Minimalna cena dla gatunku Non Fiction: Odpowiedź\", genre_min_price)",
      "metadata": {
        "trusted": true
      },
      "outputs": [
        {
          "name": "stdout",
          "text": "Minimalna cena dla gatunku Non Fiction: Odpowiedź              min\ngenre           \nNon Fiction    0\n",
          "output_type": "stream"
        }
      ],
      "execution_count": 47
    },
    {
      "cell_type": "code",
      "source": "author_book_counts = table.groupby('author').agg({'name': 'count'}).reset_index()\n\nauthor_book_counts = author_book_counts.rename(columns={'name': 'book_count'})\n\nprint(\"Ramka danych zawierająca liczbę książek dla każdego autora:\", author_book_counts)\n\n",
      "metadata": {
        "trusted": true
      },
      "outputs": [
        {
          "name": "stdout",
          "text": "Ramka danych zawierająca liczbę książek dla każdego autora:                          author  book_count\n0              Abraham Verghese           2\n1                Adam Gasiewski           1\n2                 Adam Mansbach           1\n3                     Adir Levy           1\n4    Admiral William H. McRaven           1\n..                          ...         ...\n243             Walter Isaacson           3\n244               William Davis           2\n245            William P. Young           2\n246            Wizards RPG Team           3\n247                Zhi Gang Sha           2\n\n[248 rows x 2 columns]\n",
          "output_type": "stream"
        }
      ],
      "execution_count": 48
    },
    {
      "cell_type": "code",
      "source": "table_shape = author_book_counts.shape\nprint(\"Jaki jest wymiar tabeli? Odpowiedź:\", table_shape)",
      "metadata": {
        "trusted": true
      },
      "outputs": [
        {
          "name": "stdout",
          "text": "Jaki jest wymiar tabeli? Odpowiedź: (248, 2)\n",
          "output_type": "stream"
        }
      ],
      "execution_count": 50
    },
    {
      "cell_type": "code",
      "source": "author_with_most_books = author_book_counts.sort_values(by='book_count', ascending=False).iloc[0]\n\nprint(\"Autor z największą liczbą książek:\", author_with_most_books['author'])",
      "metadata": {
        "trusted": true
      },
      "outputs": [
        {
          "name": "stdout",
          "text": "Autor z największą liczbą książek: Jeff Kinney\n",
          "output_type": "stream"
        }
      ],
      "execution_count": 51
    },
    {
      "cell_type": "code",
      "source": "print(\"Ile jest książek tego autora? Odpowiedź:\", author_with_most_books['book_count'])",
      "metadata": {
        "trusted": true
      },
      "outputs": [
        {
          "name": "stdout",
          "text": "Ile jest książek tego autora? Odpowiedź: 12\n",
          "output_type": "stream"
        }
      ],
      "execution_count": 52
    },
    {
      "cell_type": "code",
      "source": "author_avg_rating = table.groupby('author')['user_rating'].mean().reset_index()\nauthor_with_lowest_avg_rating = author_avg_rating.sort_values(by='user_rating').iloc[0]\n\nprint(\"Który autor ma najniższą średnią ocenę? Odpowiedź:\", author_with_lowest_avg_rating['author'])",
      "metadata": {
        "trusted": true
      },
      "outputs": [
        {
          "name": "stdout",
          "text": "Który autor ma najniższą średnią ocenę? Odpowiedź: Donna Tartt\n",
          "output_type": "stream"
        }
      ],
      "execution_count": 57
    },
    {
      "cell_type": "code",
      "source": "lowest_avg_rating = author_with_lowest_avg_rating['user_rating']\n\nprint(\"Średnia ocena tego autora:\", lowest_avg_rating)",
      "metadata": {
        "trusted": true
      },
      "outputs": [
        {
          "name": "stdout",
          "text": "Średnia ocena tego autora: 3.9\n",
          "output_type": "stream"
        }
      ],
      "execution_count": 59
    },
    {
      "cell_type": "code",
      "source": "merged_data = pd.merge(author_book_counts, author_avg_rating, on='author', how='inner')\n\n\nprint(merged_data)",
      "metadata": {
        "trusted": true
      },
      "outputs": [
        {
          "name": "stdout",
          "text": "                         author  book_count  user_rating\n0              Abraham Verghese           2     4.600000\n1                Adam Gasiewski           1     4.400000\n2                 Adam Mansbach           1     4.800000\n3                     Adir Levy           1     4.800000\n4    Admiral William H. McRaven           1     4.700000\n..                          ...         ...          ...\n243             Walter Isaacson           3     4.566667\n244               William Davis           2     4.400000\n245            William P. Young           2     4.600000\n246            Wizards RPG Team           3     4.800000\n247                Zhi Gang Sha           2     4.600000\n\n[248 rows x 3 columns]\n",
          "output_type": "stream"
        }
      ],
      "execution_count": 63
    },
    {
      "cell_type": "code",
      "source": "merged_data_sorted = merged_data.sort_values(by=['book_count', 'user_rating'])\nprint(merged_data_sorted)",
      "metadata": {
        "trusted": true
      },
      "outputs": [
        {
          "name": "stdout",
          "text": "                                 author  book_count  user_rating\n171                      Muriel Barbery           1     4.000000\n43                         Chris Cleave           1     4.100000\n109                   Ian K. Smith M.D.           1     4.100000\n186                        Pierre Dukan           1     4.100000\n81                     Elizabeth Strout           1     4.200000\n..                                  ...         ...          ...\n11   American Psychological Association          10     4.500000\n226                     Suzanne Collins          11     4.663636\n92                         Gary Chapman          11     4.736364\n197                        Rick Riordan          11     4.772727\n120                         Jeff Kinney          12     4.800000\n\n[248 rows x 3 columns]\n",
          "output_type": "stream"
        }
      ],
      "execution_count": 65
    },
    {
      "cell_type": "code",
      "source": "print(\"Który autor jest pierwszy na liście? Odpowiedź:\", merged_data_sorted.iloc[0])",
      "metadata": {
        "trusted": true
      },
      "outputs": [
        {
          "name": "stdout",
          "text": "Który autor jest pierwszy na liście? Odpowiedź: author         Muriel Barbery\nbook_count                  1\nuser_rating               4.0\nName: 171, dtype: object\n",
          "output_type": "stream"
        }
      ],
      "execution_count": 66
    },
    {
      "cell_type": "code",
      "source": "",
      "metadata": {
        "trusted": true
      },
      "outputs": [],
      "execution_count": null
    }
  ]
}